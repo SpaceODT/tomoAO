{
 "cells": [
  {
   "metadata": {},
   "cell_type": "markdown",
   "source": [
    "# Adaptive Optics Simulation using PyTomo\n",
    "\n",
    "This notebook demonstrates how to build a tomographic reconstructor in phase space using PyTomo. It includes:\n",
    "- Loading configuration parameters from an INI file\n",
    "- Creating an AO system\n",
    "- Constructing a reconstructor using the tomoReconstructor class\n",
    "- Updating the modified filtered subaperture mask and recalculating the reconstructor"
   ],
   "id": "938889201bd0f9e4"
  },
  {
   "metadata": {
    "collapsed": true
   },
   "cell_type": "code",
   "source": "import matplotlib.pyplot as plt",
   "id": "initial_id",
   "outputs": [],
   "execution_count": null
  },
  {
   "metadata": {},
   "cell_type": "code",
   "source": [
    "import tomoAO\n",
    "tomoAO.__version__"
   ],
   "id": "2aa79acc4bb1169c",
   "outputs": [],
   "execution_count": null
  },
  {
   "metadata": {},
   "cell_type": "code",
   "source": [
    "ao_mode = \"MLAO\"\n",
    "\n",
    "config_dir = \"/home/joaomonteiro/Desktop/test_pytomo/\"\n",
    "config_file = \"config.ini\"\n",
    "\n",
    "# Loading the config\n",
    "config_vars = tomoAO.IO.load_from_ini(config_file, ao_mode=ao_mode, config_dir=config_dir)"
   ],
   "id": "2921786aea851115",
   "outputs": [],
   "execution_count": null
  },
  {
   "metadata": {},
   "cell_type": "markdown",
   "source": [
    "\n",
    "## Creating the Adaptive Optics System\n",
    "Using the loaded configuration, we instantiate an AO system"
   ],
   "id": "8fa9b031e41633e5"
  },
  {
   "metadata": {},
   "cell_type": "code",
   "source": "aoSys = tomoAO.Simulation.AOSystem(config_vars)",
   "id": "b410f14af72268b2",
   "outputs": [],
   "execution_count": null
  },
  {
   "metadata": {},
   "cell_type": "code",
   "source": [
    "fig, axes = plt.subplots(1, 2, figsize=(15, 5))\n",
    "\n",
    "titles = [\"Unfiltered Subapertures Mask\", \"Filtered Subapertures Mask\"]\n",
    "matrices = [aoSys.unfiltered_subap_mask, aoSys.filtered_subap_mask]\n",
    "\n",
    "for ax, matrix, title in zip(axes.flat, matrices, titles):\n",
    "    im = ax.imshow(matrix)\n",
    "    ax.set_title(title)\n",
    "    fig.colorbar(im, ax=ax)"
   ],
   "id": "d1dd8c163b85dcf",
   "outputs": [],
   "execution_count": null
  },
  {
   "metadata": {},
   "cell_type": "markdown",
   "source": [
    "## Building the Tomographic Reconstructor\n",
    "We use the tomoReconstructor class to construct a reconstructor from scratch"
   ],
   "id": "baab5e6568f9a19b"
  },
  {
   "metadata": {},
   "cell_type": "code",
   "source": "from tomoAO.Reconstruction.reconClassType import tomoReconstructor",
   "id": "20d54338ab81274e",
   "outputs": [],
   "execution_count": null
  },
  {
   "metadata": {},
   "cell_type": "code",
   "source": "rec = tomoReconstructor(aoSys=aoSys, alpha=10, os=2)",
   "id": "1885a9a67797db6e",
   "outputs": [],
   "execution_count": null
  },
  {
   "metadata": {},
   "cell_type": "code",
   "source": [
    "plt.imshow(rec.R_unfiltered)\n",
    "plt.colorbar()\n",
    "plt.show()"
   ],
   "id": "a31cfff468a3b10f",
   "outputs": [],
   "execution_count": null
  },
  {
   "metadata": {},
   "cell_type": "code",
   "source": [
    "fig, axes = plt.subplots(2, 2, figsize=(10, 10))\n",
    "\n",
    "titles = [\"Cox\", \"Cxx\", \"Fitting Matrix\", \"Reconstructor\"]\n",
    "matrices = [rec.Cox[0], rec.Cxx, rec.fittingMatrix, rec.Reconstructor[0]]\n",
    "\n",
    "for ax, matrix, title in zip(axes.flat, matrices, titles):\n",
    "    im = ax.imshow(matrix, cmap=\"viridis\", aspect=\"auto\")\n",
    "    ax.set_title(title)\n",
    "    fig.colorbar(im, ax=ax)"
   ],
   "id": "1279a9150621af7f",
   "outputs": [],
   "execution_count": null
  },
  {
   "metadata": {},
   "cell_type": "markdown",
   "source": [
    "## Updating and Displaying the Modified Filtered Subaperture Mask\n",
    "We modify the existing mask, recompute the reconstructor, and visualize the changes\n"
   ],
   "id": "598e3a6566949292"
  },
  {
   "metadata": {},
   "cell_type": "code",
   "source": [
    "# Modify the filtered subaperture mask and recompute the reconstructor\n",
    "# Example: Transpose the existing mask to introduce a different configuration\n",
    "rec.filtered_subap_mask = aoSys.filtered_subap_mask.T\n",
    "plt.imshow(rec.filtered_subap_mask)"
   ],
   "id": "1f5c45deac47755d",
   "outputs": [],
   "execution_count": null
  },
  {
   "metadata": {},
   "cell_type": "code",
   "source": [
    "# Computing the new weight vector\n",
    "# The weight vector can be user-defined by assigning a custom vector to `rec.weight_vector`\n",
    "rec.computeDefaultWeightVector()"
   ],
   "id": "68089e50bb6813a7",
   "outputs": [],
   "execution_count": null
  },
  {
   "metadata": {},
   "cell_type": "code",
   "source": [
    "#Computing the new noise covariance matrix\n",
    "# The reconstructor noise covariance matrix can be user-defined by assigning a custom vector to `rec.noise_covariance_matrix`\n",
    "rec.computeDefaultNoiseCovariance()"
   ],
   "id": "7ec68267824aebd5",
   "outputs": [],
   "execution_count": null
  },
  {
   "metadata": {},
   "cell_type": "code",
   "source": "rec.buildReconstructor()",
   "id": "2f9b4c1da361ae3f",
   "outputs": [],
   "execution_count": null
  },
  {
   "metadata": {},
   "cell_type": "markdown",
   "source": "# Building the reconstructor from function",
   "id": "b001605f8ef20cc0"
  },
  {
   "metadata": {},
   "cell_type": "code",
   "source": "from tomoAO.Reconstruction import tomographic_reconstructor_phase_space",
   "id": "575c7c26159c205e",
   "outputs": [],
   "execution_count": null
  },
  {
   "metadata": {},
   "cell_type": "markdown",
   "source": "### If the debug variable is not specified or is set to False, only the final reconstructor will be returned.\n",
   "id": "4e3f553298c6a39e"
  },
  {
   "metadata": {},
   "cell_type": "code",
   "source": [
    "rec_fn = tomographic_reconstructor_phase_space(config_file=config_file,config_dir=config_dir,\n",
    "                                               alpha=10)"
   ],
   "id": "53f7a301bd623c25",
   "outputs": [],
   "execution_count": null
  },
  {
   "metadata": {},
   "cell_type": "markdown",
   "source": "### If the debug variable is set to True, the entire object will be returned.\n",
   "id": "81bf9f5315900b5d"
  },
  {
   "metadata": {},
   "cell_type": "code",
   "source": [
    "rec_fn_debug = tomographic_reconstructor_phase_space(config_file=config_file,config_dir=config_dir,\n",
    "                                                     alpha=10, debug=True)\n"
   ],
   "id": "98e29ca906919e68",
   "outputs": [],
   "execution_count": null
  }
 ],
 "metadata": {
  "kernelspec": {
   "display_name": "Python 3",
   "language": "python",
   "name": "python3"
  },
  "language_info": {
   "codemirror_mode": {
    "name": "ipython",
    "version": 2
   },
   "file_extension": ".py",
   "mimetype": "text/x-python",
   "name": "python",
   "nbconvert_exporter": "python",
   "pygments_lexer": "ipython2",
   "version": "2.7.6"
  }
 },
 "nbformat": 4,
 "nbformat_minor": 5
}
